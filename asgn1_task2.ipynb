{
 "cells": [
  {
   "cell_type": "code",
   "execution_count": 1,
   "metadata": {},
   "outputs": [
    {
     "name": "stdout",
     "output_type": "stream",
     "text": [
      "t2_q1\n",
      "enter numbers by comma separated : 1,2,3,4,5\n",
      "['1', '2', '3', '4', '5']\n"
     ]
    }
   ],
   "source": [
    "print(\"t2_q1\")\n",
    "\n",
    "num_value=input(\"enter numbers by comma separated : \")\n",
    "list=num_value.split(\",\")\n",
    "print(list)"
   ]
  },
  {
   "cell_type": "code",
   "execution_count": 2,
   "metadata": {},
   "outputs": [
    {
     "name": "stdout",
     "output_type": "stream",
     "text": [
      "*\n",
      "**\n",
      "***\n",
      "****\n",
      "*****\n",
      "****\n",
      "\n"
     ]
    }
   ],
   "source": [
    "for i in range(0,5): \n",
    "    for j in range(0,i+1): \n",
    "        print(\"*\",end=\"\") \n",
    "    print()\n",
    "for k in (5,0):\n",
    "    for l in range(0,k-1):\n",
    "        print(\"*\",end=\"\") \n",
    "    print()"
   ]
  },
  {
   "cell_type": "code",
   "execution_count": 3,
   "metadata": {},
   "outputs": [
    {
     "name": "stdout",
     "output_type": "stream",
     "text": [
      "AcadGild\n",
      "input word:  AcadGild\n",
      "output: dliGdacA\n"
     ]
    }
   ],
   "source": [
    "\n",
    "word=input()\n",
    "print(\"input word: \",word)\n",
    "\n",
    "str=word[::-1]\n",
    "\n",
    "print(\"output:\",str)\n"
   ]
  },
  {
   "cell_type": "code",
   "execution_count": 4,
   "metadata": {},
   "outputs": [
    {
     "name": "stdout",
     "output_type": "stream",
     "text": [
      "WE,THE PEOPLE OF INDIA, having solemnly resolved to constitute India into a SOVEREIGN, SOCIALIST, SECULAR, DEMOCRATIC REPUBLLIC and to secure to all its citizens\n",
      "WE,THE PEOPLE OF INDIA,\n",
      "\t having solemnly resolved to constitute India into a SOVEREIGN, \n",
      " \t\t SOCIALIST, SECULAR, DEMOCRATIC REPUBLLIC \n",
      " \t\t and to secure to all its citizens\n"
     ]
    }
   ],
   "source": [
    "str=\"WE,THE PEOPLE OF INDIA, having solemnly resolved to constitute India into a SOVEREIGN, SOCIALIST, SECULAR, DEMOCRATIC REPUBLLIC and to secure to all its citizens\"\n",
    "\n",
    "print(str)\n",
    "\n",
    "print(\"WE,THE PEOPLE OF INDIA,\\n\\t having solemnly resolved to constitute India into a SOVEREIGN, \\n \\t\\t SOCIALIST, SECULAR, DEMOCRATIC REPUBLLIC \\n \\t\\t and to secure to all its citizens\")"
   ]
  },
  {
   "cell_type": "code",
   "execution_count": null,
   "metadata": {},
   "outputs": [],
   "source": []
  }
 ],
 "metadata": {
  "kernelspec": {
   "display_name": "Python 3",
   "language": "python",
   "name": "python3"
  },
  "language_info": {
   "codemirror_mode": {
    "name": "ipython",
    "version": 3
   },
   "file_extension": ".py",
   "mimetype": "text/x-python",
   "name": "python",
   "nbconvert_exporter": "python",
   "pygments_lexer": "ipython3",
   "version": "3.7.4"
  }
 },
 "nbformat": 4,
 "nbformat_minor": 2
}
